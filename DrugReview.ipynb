{
 "cells": [
  {
   "cell_type": "code",
   "execution_count": 1,
   "metadata": {},
   "outputs": [],
   "source": [
    "import numpy as np\n",
    "import pandas as pd\n",
    "import scipy as sp\n",
    "import matplotlib.pyplot as plt"
   ]
  },
  {
   "cell_type": "code",
   "execution_count": 2,
   "metadata": {},
   "outputs": [
    {
     "name": "stdout",
     "output_type": "stream",
     "text": [
      "['drugsComTest_raw.tsv', 'drugsComTrain_raw.tsv']\n"
     ]
    }
   ],
   "source": [
    "import os\n",
    "print(os.listdir('data'))"
   ]
  },
  {
   "cell_type": "code",
   "execution_count": 3,
   "metadata": {},
   "outputs": [
    {
     "name": "stdout",
     "output_type": "stream",
     "text": [
      "(161297, 7)\n",
      "(53766, 7)\n"
     ]
    }
   ],
   "source": [
    "train_data = pd.read_csv('data/drugsComTrain_raw.tsv', sep='\\t')\n",
    "test_data = pd.read_csv('data/drugsComTest_raw.tsv', sep='\\t')\n",
    "\n",
    "# list data dimension\n",
    "print(train_data.shape)\n",
    "print(test_data.shape)"
   ]
  },
  {
   "cell_type": "code",
   "execution_count": 4,
   "metadata": {},
   "outputs": [
    {
     "data": {
      "text/html": [
       "<div>\n",
       "<style scoped>\n",
       "    .dataframe tbody tr th:only-of-type {\n",
       "        vertical-align: middle;\n",
       "    }\n",
       "\n",
       "    .dataframe tbody tr th {\n",
       "        vertical-align: top;\n",
       "    }\n",
       "\n",
       "    .dataframe thead th {\n",
       "        text-align: right;\n",
       "    }\n",
       "</style>\n",
       "<table border=\"1\" class=\"dataframe\">\n",
       "  <thead>\n",
       "    <tr style=\"text-align: right;\">\n",
       "      <th></th>\n",
       "      <th>Unnamed: 0</th>\n",
       "      <th>drugName</th>\n",
       "      <th>condition</th>\n",
       "      <th>review</th>\n",
       "      <th>rating</th>\n",
       "      <th>date</th>\n",
       "      <th>usefulCount</th>\n",
       "    </tr>\n",
       "  </thead>\n",
       "  <tbody>\n",
       "    <tr>\n",
       "      <th>0</th>\n",
       "      <td>206461</td>\n",
       "      <td>Valsartan</td>\n",
       "      <td>Left Ventricular Dysfunction</td>\n",
       "      <td>\"It has no side effect, I take it in combinati...</td>\n",
       "      <td>9.0</td>\n",
       "      <td>May 20, 2012</td>\n",
       "      <td>27</td>\n",
       "    </tr>\n",
       "    <tr>\n",
       "      <th>1</th>\n",
       "      <td>95260</td>\n",
       "      <td>Guanfacine</td>\n",
       "      <td>ADHD</td>\n",
       "      <td>\"My son is halfway through his fourth week of ...</td>\n",
       "      <td>8.0</td>\n",
       "      <td>April 27, 2010</td>\n",
       "      <td>192</td>\n",
       "    </tr>\n",
       "    <tr>\n",
       "      <th>2</th>\n",
       "      <td>92703</td>\n",
       "      <td>Lybrel</td>\n",
       "      <td>Birth Control</td>\n",
       "      <td>\"I used to take another oral contraceptive, wh...</td>\n",
       "      <td>5.0</td>\n",
       "      <td>December 14, 2009</td>\n",
       "      <td>17</td>\n",
       "    </tr>\n",
       "    <tr>\n",
       "      <th>3</th>\n",
       "      <td>138000</td>\n",
       "      <td>Ortho Evra</td>\n",
       "      <td>Birth Control</td>\n",
       "      <td>\"This is my first time using any form of birth...</td>\n",
       "      <td>8.0</td>\n",
       "      <td>November 3, 2015</td>\n",
       "      <td>10</td>\n",
       "    </tr>\n",
       "    <tr>\n",
       "      <th>4</th>\n",
       "      <td>35696</td>\n",
       "      <td>Buprenorphine / naloxone</td>\n",
       "      <td>Opiate Dependence</td>\n",
       "      <td>\"Suboxone has completely turned my life around...</td>\n",
       "      <td>9.0</td>\n",
       "      <td>November 27, 2016</td>\n",
       "      <td>37</td>\n",
       "    </tr>\n",
       "  </tbody>\n",
       "</table>\n",
       "</div>"
      ],
      "text/plain": [
       "   Unnamed: 0                  drugName                     condition  \\\n",
       "0      206461                 Valsartan  Left Ventricular Dysfunction   \n",
       "1       95260                Guanfacine                          ADHD   \n",
       "2       92703                    Lybrel                 Birth Control   \n",
       "3      138000                Ortho Evra                 Birth Control   \n",
       "4       35696  Buprenorphine / naloxone             Opiate Dependence   \n",
       "\n",
       "                                              review  rating  \\\n",
       "0  \"It has no side effect, I take it in combinati...     9.0   \n",
       "1  \"My son is halfway through his fourth week of ...     8.0   \n",
       "2  \"I used to take another oral contraceptive, wh...     5.0   \n",
       "3  \"This is my first time using any form of birth...     8.0   \n",
       "4  \"Suboxone has completely turned my life around...     9.0   \n",
       "\n",
       "                date  usefulCount  \n",
       "0       May 20, 2012           27  \n",
       "1     April 27, 2010          192  \n",
       "2  December 14, 2009           17  \n",
       "3   November 3, 2015           10  \n",
       "4  November 27, 2016           37  "
      ]
     },
     "execution_count": 4,
     "metadata": {},
     "output_type": "execute_result"
    }
   ],
   "source": [
    "train_data.head()"
   ]
  },
  {
   "cell_type": "code",
   "execution_count": 5,
   "metadata": {
    "scrolled": true
   },
   "outputs": [],
   "source": [
    "# convert date format\n",
    "train_data.date = pd.to_datetime(train_data.date)"
   ]
  },
  {
   "cell_type": "code",
   "execution_count": 6,
   "metadata": {},
   "outputs": [
    {
     "data": {
      "text/plain": [
       "Text(0.5, 1.0, 'Top20 drugs used condition')"
      ]
     },
     "execution_count": 6,
     "metadata": {},
     "output_type": "execute_result"
    },
    {
     "data": {
      "image/png": "[encoded data removed]",
      "text/plain": [
       "<Figure size 432x288 with 1 Axes>"
      ]
     },
     "metadata": {
      "needs_background": "light"
     },
     "output_type": "display_data"
    }
   ],
   "source": [
    "# number of drug per condition\n",
    "df_drugPerCond = train_data.groupby(['condition'])['drugName'].nunique().sort_values(ascending=False)\n",
    "df_drugPerCond[0:20].plot(kind=\"bar\")\n",
    "plt.xlabel(\"Conditions\")\n",
    "plt.ylabel(\"Drug numbers\")\n",
    "plt.title(\"Top20 drugs used condition\")"
   ]
  },
  {
   "cell_type": "markdown",
   "metadata": {},
   "source": [
    "前20個使用藥品數量(drug numbers)最多的狀況(conditions)中，有一項  3 < /span>  users found this comment helpful ，並非一般所認定之情形，先行移除。"
   ]
  },
  {
   "cell_type": "code",
   "execution_count": 7,
   "metadata": {},
   "outputs": [],
   "source": [
    "# remove \n",
    "for i, data in enumerate(train_data['condition']):\n",
    "    if pd.isnull(data):\n",
    "        train_data = train_data[train_data.condition != data]\n",
    "    elif ('</span>' in data):\n",
    "        train_data = train_data[train_data.condition != data]\n",
    "\n",
    "train_data = train_data[train_data.condition != 'Not Listed / Othe']"
   ]
  },
  {
   "cell_type": "code",
   "execution_count": 8,
   "metadata": {},
   "outputs": [
    {
     "data": {
      "text/plain": [
       "<matplotlib.axes._subplots.AxesSubplot at 0x7f185ff02278>"
      ]
     },
     "execution_count": 8,
     "metadata": {},
     "output_type": "execute_result"
    },
    {
     "data": {
      "image/png": "[encoded data removed]",
      "text/plain": [
       "<Figure size 432x288 with 1 Axes>"
      ]
     },
     "metadata": {
      "needs_background": "light"
     },
     "output_type": "display_data"
    }
   ],
   "source": [
    "# reviews per month\n",
    "df_ReviewPerMon = train_data.copy()\n",
    "\n",
    "df_ReviewPerMon = df_ReviewPerMon.groupby([df_ReviewPerMon.date.dt.year, df_ReviewPerMon.date.dt.month])\n",
    "df_ReviewPerMon.size().plot()"
   ]
  },
  {
   "cell_type": "code",
   "execution_count": 9,
   "metadata": {},
   "outputs": [
    {
     "data": {
      "image/png": "[encoded data removed]",
      "text/plain": [
       "<Figure size 432x288 with 1 Axes>"
      ]
     },
     "metadata": {
      "needs_background": "light"
     },
     "output_type": "display_data"
    }
   ],
   "source": [
    "# distribute of rating and usefulCount\n",
    "df_RateUseful = train_data[['rating', 'usefulCount']]\n",
    "df_RateUseful = df_RateUseful.set_index('rating')\n",
    "df_RateUseful.head()\n",
    "\n",
    "plt.plot(df_RateUseful, 'o')\n",
    "plt.show()"
   ]
  },
  {
   "cell_type": "code",
   "execution_count": null,
   "metadata": {},
   "outputs": [],
   "source": [
    "# drug/condition pair average rating\n",
    "t = []\n",
    "df_drugPerCond = train_data.groupby(['condition'])['drugName'].nunique().sort_values(ascending=False)\n",
    "x = [i for i in range(0,len(df_drugPerCond.index))]\n",
    "for index in df_drugPerCond.index:\n",
    "    t.append(train_data[train_data.condition == index]['rating'].mean())\n",
    "plt.bar(x, t, 3.5)\n"
   ]
  },
  {
   "cell_type": "markdown",
   "metadata": {},
   "source": [
    "## data preprocess"
   ]
  },
  {
   "cell_type": "code",
   "execution_count": null,
   "metadata": {},
   "outputs": [],
   "source": [
    "# "
   ]
  },
  {
   "cell_type": "code",
   "execution_count": null,
   "metadata": {},
   "outputs": [],
   "source": [
    "# encode drug name\n",
    "drug_id = pd.factorize(train_data.drugName.tolist()+test_data.drugName.tolist())\n",
    "train_data.drugName = drug_id[0][0:len(train_data.drugName)]\n",
    "test_data.drugName  = drug_id[0][-len(test_data.drugName)-1:-1]"
   ]
  },
  {
   "cell_type": "code",
   "execution_count": null,
   "metadata": {},
   "outputs": [],
   "source": [
    "# encode condition name\n",
    "condition_id = pd.factorize(train_data.condition.tolist()+test_data.drugName.tolist())\n",
    "train_data.condition = condition_id[0][0:len(train_data.condition)]\n",
    "test_data.condition  = condition_id[0][-len(test_data.condition)-1:-1]"
   ]
  },
  {
   "cell_type": "code",
   "execution_count": null,
   "metadata": {
    "scrolled": false
   },
   "outputs": [],
   "source": [
    "# remove condition/drug pair less than 1\n",
    "df_pair = train_data.groupby(['drugName', 'condition'])\n",
    "df_pair = df_pair.filter(lambda x: len(x)>1)\n",
    "train_data = df_pair\n",
    "df_pair.head()"
   ]
  },
  {
   "cell_type": "markdown",
   "metadata": {},
   "source": [
    "## Model"
   ]
  },
  {
   "cell_type": "markdown",
   "metadata": {},
   "source": [
    "* 選擇feature"
   ]
  },
  {
   "cell_type": "code",
   "execution_count": null,
   "metadata": {},
   "outputs": [],
   "source": [
    "df_trainX = train_data.drop(['Unnamed: 0', 'drugName', 'date', 'review'], axis=1)\n",
    "df_trainY = train_data['drugName']\n",
    "\n",
    "df_testX  = test_data.drop(['Unnamed: 0' , 'drugName', 'date', 'review'], axis=1)\n",
    "df_testY  = test_data['drugName']\n"
   ]
  },
  {
   "cell_type": "markdown",
   "metadata": {},
   "source": [
    "### decision tree"
   ]
  },
  {
   "cell_type": "code",
   "execution_count": null,
   "metadata": {},
   "outputs": [],
   "source": [
    "# decision tree\n",
    "\n",
    "from sklearn import tree, metrics\n",
    "\n",
    "clf = tree.DecisionTreeClassifier()\n",
    "clf = clf.fit(df_trainX, df_trainY)\n",
    "\n",
    "pred = clf.predict(df_trainX)\n",
    "decision_train_acc = metrics.accuracy_score(df_trainY, pred)\n",
    "print('train acc:'+str(decision_train_acc))\n",
    "\n",
    "pred = clf.predict(df_testX)\n",
    "decision_test_acc = metrics.accuracy_score(df_testY, pred)\n",
    "print('test acc:'+str(decision_test_acc))"
   ]
  },
  {
   "cell_type": "markdown",
   "metadata": {},
   "source": [
    "### naive bayes"
   ]
  },
  {
   "cell_type": "code",
   "execution_count": null,
   "metadata": {},
   "outputs": [],
   "source": [
    "# naive bayes\n",
    "from sklearn.naive_bayes import GaussianNB\n",
    "\n",
    "clf = GaussianNB()\n",
    "clf = clf.fit(df_trainX, df_trainY)\n",
    "\n",
    "pred = clf.predict(df_trainX)\n",
    "bayes_train_acc = metrics.accuracy_score(df_trainY, pred)\n",
    "print('train acc:'+str(bayes_train_acc))\n",
    "\n",
    "pred = clf.predict(df_testX)\n",
    "bayes_test_acc = metrics.accuracy_score(df_testY, pred)\n",
    "print('test acc:'+str(bayes_test_acc))"
   ]
  },
  {
   "cell_type": "markdown",
   "metadata": {},
   "source": [
    "### AdaBoostClassifier"
   ]
  },
  {
   "cell_type": "code",
   "execution_count": null,
   "metadata": {},
   "outputs": [],
   "source": [
    "from sklearn.ensemble import AdaBoostClassifier\n",
    "\n",
    "ada = AdaBoostClassifier()\n",
    "clf = clf.fit(df_trainX, df_trainY)\n",
    "\n",
    "pred = clf.predict(df_trainX)\n",
    "ada_train_acc = metrics.accuracy_score(df_trainY, pred)\n",
    "print('train acc:'+str(ada_train_acc))\n",
    "\n",
    "pred = clf.predict(df_testX)\n",
    "ada_test_acc = metrics.accuracy_score(df_testY, pred)\n",
    "print('test acc:'+str(ada_test_acc))"
   ]
  },
  {
   "cell_type": "markdown",
   "metadata": {},
   "source": [
    "## 改進"
   ]
  },
  {
   "cell_type": "markdown",
   "metadata": {},
   "source": [
    "* 對rating和usefulcount做normalize"
   ]
  },
  {
   "cell_type": "code",
   "execution_count": null,
   "metadata": {},
   "outputs": [],
   "source": [
    "df_trainX = train_data.drop(['Unnamed: 0', 'drugName', 'date', 'review'], axis=1)\n",
    "df_trainX.rating = df_trainX.rating/10\n",
    "df_trainX.usefulCount = df_trainX.usefulCount/100\n",
    "df_trainY = train_data['drugName']\n",
    "\n",
    "df_testX  = test_data.drop(['Unnamed: 0' , 'drugName', 'date', 'review'], axis=1)\n",
    "df_testX.rating = df_testX.rating/10\n",
    "df_testX.usefulCount = df_testX.usefulCount/100\n",
    "df_testY  = test_data['drugName']\n"
   ]
  },
  {
   "cell_type": "markdown",
   "metadata": {},
   "source": [
    "### decision tree"
   ]
  },
  {
   "cell_type": "code",
   "execution_count": null,
   "metadata": {},
   "outputs": [],
   "source": [
    "# decision tree\n",
    "\n",
    "from sklearn import tree, metrics\n",
    "\n",
    "clf = tree.DecisionTreeClassifier()\n",
    "clf = clf.fit(df_trainX, df_trainY)\n",
    "\n",
    "pred = clf.predict(df_trainX)\n",
    "decision_train_acc1 = metrics.accuracy_score(df_trainY, pred)\n",
    "print('train acc:'+str(decision_train_acc1))\n",
    "\n",
    "pred = clf.predict(df_testX)\n",
    "decision_test_acc1 = metrics.accuracy_score(df_testY, pred)\n",
    "print('test acc:'+str(decision_test_acc1))"
   ]
  },
  {
   "cell_type": "markdown",
   "metadata": {},
   "source": [
    "### naive bayes"
   ]
  },
  {
   "cell_type": "code",
   "execution_count": null,
   "metadata": {},
   "outputs": [],
   "source": [
    "# naive bayes\n",
    "from sklearn.naive_bayes import GaussianNB\n",
    "\n",
    "clf = GaussianNB()\n",
    "clf = clf.fit(df_trainX, df_trainY)\n",
    "\n",
    "pred = clf.predict(df_trainX)\n",
    "bayes_train_acc1 = metrics.accuracy_score(df_trainY, pred)\n",
    "print('train acc:'+str(bayes_train_acc1))\n",
    "\n",
    "pred = clf.predict(df_testX)\n",
    "bayes_test_acc1 = metrics.accuracy_score(df_testY, pred)\n",
    "print('test acc:'+str(bayes_test_acc1))"
   ]
  },
  {
   "cell_type": "markdown",
   "metadata": {},
   "source": [
    "### AdaBoostClassifier"
   ]
  },
  {
   "cell_type": "code",
   "execution_count": null,
   "metadata": {},
   "outputs": [],
   "source": [
    "from sklearn.ensemble import AdaBoostClassifier\n",
    "\n",
    "ada = AdaBoostClassifier()\n",
    "clf = clf.fit(df_trainX, df_trainY)\n",
    "\n",
    "pred = clf.predict(df_trainX)\n",
    "ada_train_acc1 = metrics.accuracy_score(df_trainY, pred)\n",
    "print('train acc:'+str(ada_train_acc1))\n",
    "\n",
    "pred = clf.predict(df_testX)\n",
    "ada_test_acc1 = metrics.accuracy_score(df_testY, pred)\n",
    "print('test acc:'+str(ada_test_acc1))"
   ]
  },
  {
   "cell_type": "markdown",
   "metadata": {},
   "source": [
    "* normalize後，三種分類的成長"
   ]
  },
  {
   "cell_type": "code",
   "execution_count": null,
   "metadata": {},
   "outputs": [],
   "source": [
    "rate11 = decision_train_acc1 / decision_train_acc \n",
    "rate12 = decision_test_acc1 / decision_test_acc \n",
    "rate21 = bayes_train_acc1 / bayes_train_acc\n",
    "rate22 = bayes_test_acc1 / bayes_test_acc\n",
    "rate31 = ada_train_acc1 / ada_train_acc\n",
    "rate32 = ada_test_acc1 / ada_test_acc\n",
    "\n",
    "plt.bar([1,2,3,4,5,6], [rate11, rate12, rate21, rate22, rate31, rate32])\n",
    "plt.show()"
   ]
  },
  {
   "cell_type": "code",
   "execution_count": null,
   "metadata": {},
   "outputs": [],
   "source": [
    "print('decision tree train accuracy 提昇:' + str(rate11))\n",
    "print('decision tree test accuracy 提昇:' + str(rate12))\n",
    "print('bayes train accuracy 提昇:' + str(rate21))\n",
    "print('bayes test accuracy 提昇:' + str(rate22))\n",
    "print('ada boost train accuracy 提昇:' + str(rate31))\n",
    "print('ada boost test accuracy 提昇:' + str(rate32))"
   ]
  },
  {
   "cell_type": "markdown",
   "metadata": {},
   "source": [
    "## 改進"
   ]
  },
  {
   "cell_type": "markdown",
   "metadata": {},
   "source": [
    "* 把超過100的usefulCount壓到100"
   ]
  },
  {
   "cell_type": "code",
   "execution_count": null,
   "metadata": {},
   "outputs": [],
   "source": [
    "df_trainX = train_data.drop(['Unnamed: 0', 'drugName', 'date', 'review'], axis=1)\n",
    "df_trainX.rating = df_trainX.rating/10\n",
    "df_trainX.usefulCount = df_trainX.usefulCount/100\n",
    "df_trainY = train_data['drugName']\n",
    "\n",
    "df_testX  = test_data.drop(['Unnamed: 0' , 'drugName', 'date', 'review'], axis=1)\n",
    "df_testX.rating = df_testX.rating/10\n",
    "df_testX.usefulCount = df_testX.usefulCount/100\n",
    "df_testY  = test_data['drugName']\n",
    "\n",
    "df_trainX.usefulCount = df_trainX.usefulCount.apply(lambda x: 1 if x > 1 else x)\n",
    "df_testX.usefulCount = df_testX.usefulCount.apply(lambda x: 1 if x > 1 else x)\n",
    "df_trainX.head()"
   ]
  },
  {
   "cell_type": "markdown",
   "metadata": {},
   "source": [
    "### decision tree"
   ]
  },
  {
   "cell_type": "code",
   "execution_count": null,
   "metadata": {},
   "outputs": [],
   "source": [
    "# decision tree\n",
    "\n",
    "from sklearn import tree, metrics\n",
    "\n",
    "clf = tree.DecisionTreeClassifier()\n",
    "clf = clf.fit(df_trainX, df_trainY)\n",
    "\n",
    "pred = clf.predict(df_trainX)\n",
    "decision_train_acc2 = metrics.accuracy_score(df_trainY, pred)\n",
    "print('train acc:'+str(decision_train_acc2))\n",
    "\n",
    "pred = clf.predict(df_testX)\n",
    "decision_test_acc2 = metrics.accuracy_score(df_testY, pred)\n",
    "print('test acc:'+str(decision_test_acc2))"
   ]
  },
  {
   "cell_type": "markdown",
   "metadata": {},
   "source": [
    "### naive bayes"
   ]
  },
  {
   "cell_type": "code",
   "execution_count": null,
   "metadata": {},
   "outputs": [],
   "source": [
    "# naive bayes\n",
    "from sklearn.naive_bayes import GaussianNB\n",
    "\n",
    "clf = GaussianNB()\n",
    "clf = clf.fit(df_trainX, df_trainY)\n",
    "\n",
    "pred = clf.predict(df_trainX)\n",
    "bayes_train_acc2 = metrics.accuracy_score(df_trainY, pred)\n",
    "print('train acc:'+str(bayes_train_acc2))\n",
    "\n",
    "pred = clf.predict(df_testX)\n",
    "bayes_test_acc2 = metrics.accuracy_score(df_testY, pred)\n",
    "print('test acc:'+str(bayes_test_acc2))"
   ]
  },
  {
   "cell_type": "markdown",
   "metadata": {},
   "source": [
    "### ada boost"
   ]
  },
  {
   "cell_type": "code",
   "execution_count": null,
   "metadata": {},
   "outputs": [],
   "source": [
    "from sklearn.ensemble import AdaBoostClassifier\n",
    "\n",
    "ada = AdaBoostClassifier()\n",
    "clf = clf.fit(df_trainX, df_trainY)\n",
    "\n",
    "pred = clf.predict(df_trainX)\n",
    "ada_train_acc2 = metrics.accuracy_score(df_trainY, pred)\n",
    "print('train acc:'+str(ada_train_acc2))\n",
    "\n",
    "pred = clf.predict(df_testX)\n",
    "ada_test_acc2 = metrics.accuracy_score(df_testY, pred)\n",
    "print('test acc:'+str(ada_test_acc2))"
   ]
  },
  {
   "cell_type": "markdown",
   "metadata": {},
   "source": [
    "* compress + normalize 後三種分類的成長"
   ]
  },
  {
   "cell_type": "code",
   "execution_count": null,
   "metadata": {},
   "outputs": [],
   "source": [
    "rate13 = decision_train_acc2 / decision_train_acc \n",
    "rate14 = decision_test_acc2 / decision_test_acc \n",
    "rate23 = bayes_train_acc2 / bayes_train_acc\n",
    "rate24 = bayes_test_acc2 / bayes_test_acc\n",
    "rate33 = ada_train_acc2 / ada_train_acc\n",
    "rate34 = ada_test_acc2 / ada_test_acc\n",
    "\n",
    "plt.bar([1,2,3,4,5,6], [rate13, rate14, rate23, rate24, rate33, rate34])\n",
    "plt.show()"
   ]
  },
  {
   "cell_type": "code",
   "execution_count": null,
   "metadata": {},
   "outputs": [],
   "source": [
    "print('decision tree train accuracy 提昇:' + str(rate13))\n",
    "print('decision tree test accuracy 提昇:' + str(rate14))\n",
    "print('bayes train accuracy 提昇:' + str(rate23))\n",
    "print('bayes test accuracy 提昇:' + str(rate24))\n",
    "print('ada boost train accuracy 提昇:' + str(rate33))\n",
    "print('ada boost test accuracy 提昇:' + str(rate34))"
   ]
  }
 ],
 "metadata": {
  "kernelspec": {
   "display_name": "Python 3",
   "language": "python",
   "name": "python3"
  },
  "language_info": {
   "codemirror_mode": {
    "name": "ipython",
    "version": 3
   },
   "file_extension": ".py",
   "mimetype": "text/x-python",
   "name": "python",
   "nbconvert_exporter": "python",
   "pygments_lexer": "ipython3",
   "version": "3.7.3"
  }
 },
 "nbformat": 4,
 "nbformat_minor": 2
}
